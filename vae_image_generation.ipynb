{
 "cells": [
  {
   "cell_type": "code",
   "execution_count": 1,
   "id": "02f6b797-da15-4096-a359-271a5f1210dc",
   "metadata": {},
   "outputs": [],
   "source": [
    "import matplotlib.pyplot as plt"
   ]
  },
  {
   "cell_type": "code",
   "execution_count": 2,
   "id": "09299d3a-7734-4603-9b61-206110b6232c",
   "metadata": {},
   "outputs": [],
   "source": [
    "import matplotlib.image as mpimg"
   ]
  },
  {
   "cell_type": "code",
   "execution_count": 3,
   "id": "015c6d56-7f71-4412-ac5c-d9ff013c512c",
   "metadata": {},
   "outputs": [
    {
     "name": "stdout",
     "output_type": "stream",
     "text": [
      "False\n"
     ]
    }
   ],
   "source": [
    "import os\n",
    "\n",
    "print(os.path.exists('data/generated_digit.png'))\n"
   ]
  },
  {
   "cell_type": "code",
   "execution_count": null,
   "id": "b7799958-4e02-4344-9bb4-b8d151eaf838",
   "metadata": {},
   "outputs": [],
   "source": [
    "import torch\n",
    "import torchvision.utils as vutils\n",
    "import os\n",
    "\n",
    "# 1채널, 28x28 크기의 랜덤 이미지 (예: MNIST와 유사)\n",
    "generated_image = torch.randn(1, 1, 28, 28)\n",
    "\n",
    "# 'data' 폴더 생성 (없으면)\n",
    "os.makedirs('data', exist_ok=True)\n",
    "\n",
    "# 이미지 저장\n",
    "vutils.save_image(generated_image, 'data/generated_digit.png')\n"
   ]
  },
  {
   "cell_type": "code",
   "execution_count": null,
   "id": "f530a125-99ee-45d7-93ae-f82cbd13a1fd",
   "metadata": {},
   "outputs": [],
   "source": [
    "print(\"Image saved:\", os.path.exists('data/generated_digit.png'))\n"
   ]
  },
  {
   "cell_type": "code",
   "execution_count": null,
   "id": "e782fd2c-57fa-49c2-8c7e-b2a2797d132b",
   "metadata": {},
   "outputs": [],
   "source": [
    "import torchvision\n"
   ]
  },
  {
   "cell_type": "code",
   "execution_count": null,
   "id": "4bf889a5-3b53-406f-b0cf-6b5cf6c1a56a",
   "metadata": {},
   "outputs": [],
   "source": [
    "from torchvision import datasets, transforms\n",
    "\n",
    "transform = transforms.Compose([transforms.ToTensor(), transforms.Normalize((0.5,), (0.5,))])\n",
    "mnist = datasets.MNIST(root='data', train=False, download=True, transform=transform)\n",
    "imgs = torch.stack([img for img, _ in mnist])  # 단순 예시\n"
   ]
  },
  {
   "cell_type": "code",
   "execution_count": null,
   "id": "8186af85-9fef-44d3-aac6-54b05372451d",
   "metadata": {},
   "outputs": [],
   "source": [
    "import torch\n",
    "from PIL import Image\n",
    "import torchvision.transforms as T\n",
    "\n",
    "with torch.no_grad():\n",
    "    # VAE로 원본 하나 풀어보기\n",
    "    original = imgs[0].unsqueeze(0).to('cuda')  # (1, 1, 28, 28)\n",
    "    reconstructed = vae.encode_decode(original)\n",
    "    reconstructed = reconstructed.clamp(-1, 1)\n",
    "    reconstructed = (reconstructed + 1) / 2  # [-1,1] -> [0,1]\n",
    "\n",
    "# Tensor -> PIL로 변경하기\n",
    "to_pil = T.ToPILImage()\n",
    "\n",
    "original_img = to_pil(imgs[0] * 0.5 + 0.5)\n",
    "reconstructed_img = to_pil(reconstructed[0].cpu())    \n",
    "\n",
    "# PNG로 저장하기\n",
    "original_img.save(\"original.png\")\n",
    "reconstructed_img.save(\"reconstructed.png\")\n",
    "\n",
    "print(\"original.png, reconstructed.png로 저장되었습니다.\")\n"
   ]
  },
  {
   "cell_type": "code",
   "execution_count": 1,
   "id": "9777f573-da13-4839-9a85-2ece6c021552",
   "metadata": {},
   "outputs": [
    {
     "name": "stdout",
     "output_type": "stream",
     "text": [
      "Name: torch\n",
      "Version: 2.5.1\n",
      "Summary: Tensors and Dynamic neural networks in Python with strong GPU acceleration\n",
      "Home-page: https://pytorch.org/\n",
      "Author: PyTorch Team\n",
      "Author-email: packages@pytorch.org\n",
      "License: BSD-3-Clause\n",
      "Location: C:\\Users\\unish\\anaconda3\\Lib\\site-packages\n",
      "Requires: filelock, fsspec, jinja2, networkx, setuptools, sympy, typing-extensions\n",
      "Required-by: torchaudio, torchvision\n",
      "---\n",
      "Name: torchvision\n",
      "Version: 0.20.1\n",
      "Summary: image and video datasets and models for torch deep learning\n",
      "Home-page: https://github.com/pytorch/vision\n",
      "Author: PyTorch Core Team\n",
      "Author-email: soumith@pytorch.org\n",
      "License: BSD\n",
      "Location: C:\\Users\\unish\\anaconda3\\Lib\\site-packages\n",
      "Requires: numpy, pillow, torch\n",
      "Required-by: \n",
      "---\n",
      "Name: matplotlib\n",
      "Version: 3.10.3\n",
      "Summary: Python plotting package\n",
      "Home-page: https://matplotlib.org\n",
      "Author: John D. Hunter, Michael Droettboom\n",
      "Author-email: Unknown <matplotlib-users@python.org>\n",
      "License: License agreement for matplotlib versions 1.3.0 and later\n",
      " =========================================================\n",
      "\n",
      " 1. This LICENSE AGREEMENT is between the Matplotlib Development Team\n",
      " (\"MDT\"), and the Individual or Organization (\"Licensee\") accessing and\n",
      " otherwise using matplotlib software in source or binary form and its\n",
      " associated documentation.\n",
      "\n",
      " 2. Subject to the terms and conditions of this License Agreement, MDT\n",
      " hereby grants Licensee a nonexclusive, royalty-free, world-wide license\n",
      " to reproduce, analyze, test, perform and/or display publicly, prepare\n",
      " derivative works, distribute, and otherwise use matplotlib\n",
      " alone or in any derivative version, provided, however, that MDT's\n",
      " License Agreement and MDT's notice of copyright, i.e., \"Copyright (c)\n",
      " 2012- Matplotlib Development Team; All Rights Reserved\" are retained in\n",
      " matplotlib  alone or in any derivative version prepared by\n",
      " Licensee.\n",
      "\n",
      " 3. In the event Licensee prepares a derivative work that is based on or\n",
      " incorporates matplotlib or any part thereof, and wants to\n",
      " make the derivative work available to others as provided herein, then\n",
      " Licensee hereby agrees to include in any such work a brief summary of\n",
      " the changes made to matplotlib .\n",
      "\n",
      " 4. MDT is making matplotlib available to Licensee on an \"AS\n",
      " IS\" basis.  MDT MAKES NO REPRESENTATIONS OR WARRANTIES, EXPRESS OR\n",
      " IMPLIED.  BY WAY OF EXAMPLE, BUT NOT LIMITATION, MDT MAKES NO AND\n",
      " DISCLAIMS ANY REPRESENTATION OR WARRANTY OF MERCHANTABILITY OR FITNESS\n",
      " FOR ANY PARTICULAR PURPOSE OR THAT THE USE OF MATPLOTLIB\n",
      " WILL NOT INFRINGE ANY THIRD PARTY RIGHTS.\n",
      "\n",
      " 5. MDT SHALL NOT BE LIABLE TO LICENSEE OR ANY OTHER USERS OF MATPLOTLIB\n",
      "  FOR ANY INCIDENTAL, SPECIAL, OR CONSEQUENTIAL DAMAGES OR\n",
      " LOSS AS A RESULT OF MODIFYING, DISTRIBUTING, OR OTHERWISE USING\n",
      " MATPLOTLIB , OR ANY DERIVATIVE THEREOF, EVEN IF ADVISED OF\n",
      " THE POSSIBILITY THEREOF.\n",
      "\n",
      " 6. This License Agreement will automatically terminate upon a material\n",
      " breach of its terms and conditions.\n",
      "\n",
      " 7. Nothing in this License Agreement shall be deemed to create any\n",
      " relationship of agency, partnership, or joint venture between MDT and\n",
      " Licensee.  This License Agreement does not grant permission to use MDT\n",
      " trademarks or trade name in a trademark sense to endorse or promote\n",
      " products or services of Licensee, or any third party.\n",
      "\n",
      " 8. By copying, installing or otherwise using matplotlib ,\n",
      " Licensee agrees to be bound by the terms and conditions of this License\n",
      " Agreement.\n",
      "\n",
      " License agreement for matplotlib versions prior to 1.3.0\n",
      " ========================================================\n",
      "\n",
      " 1. This LICENSE AGREEMENT is between John D. Hunter (\"JDH\"), and the\n",
      " Individual or Organization (\"Licensee\") accessing and otherwise using\n",
      " matplotlib software in source or binary form and its associated\n",
      " documentation.\n",
      "\n",
      " 2. Subject to the terms and conditions of this License Agreement, JDH\n",
      " hereby grants Licensee a nonexclusive, royalty-free, world-wide license\n",
      " to reproduce, analyze, test, perform and/or display publicly, prepare\n",
      " derivative works, distribute, and otherwise use matplotlib\n",
      " alone or in any derivative version, provided, however, that JDH's\n",
      " License Agreement and JDH's notice of copyright, i.e., \"Copyright (c)\n",
      " 2002-2011 John D. Hunter; All Rights Reserved\" are retained in\n",
      " matplotlib  alone or in any derivative version prepared by\n",
      " Licensee.\n",
      "\n",
      " 3. In the event Licensee prepares a derivative work that is based on or\n",
      " incorporates matplotlib  or any part thereof, and wants to\n",
      " make the derivative work available to others as provided herein, then\n",
      " Licensee hereby agrees to include in any such work a brief summary of\n",
      " the changes made to matplotlib.\n",
      "\n",
      " 4. JDH is making matplotlib  available to Licensee on an \"AS\n",
      " IS\" basis.  JDH MAKES NO REPRESENTATIONS OR WARRANTIES, EXPRESS OR\n",
      " IMPLIED.  BY WAY OF EXAMPLE, BUT NOT LIMITATION, JDH MAKES NO AND\n",
      " DISCLAIMS ANY REPRESENTATION OR WARRANTY OF MERCHANTABILITY OR FITNESS\n",
      " FOR ANY PARTICULAR PURPOSE OR THAT THE USE OF MATPLOTLIB\n",
      " WILL NOT INFRINGE ANY THIRD PARTY RIGHTS.\n",
      "\n",
      " 5. JDH SHALL NOT BE LIABLE TO LICENSEE OR ANY OTHER USERS OF MATPLOTLIB\n",
      "  FOR ANY INCIDENTAL, SPECIAL, OR CONSEQUENTIAL DAMAGES OR\n",
      " LOSS AS A RESULT OF MODIFYING, DISTRIBUTING, OR OTHERWISE USING\n",
      " MATPLOTLIB , OR ANY DERIVATIVE THEREOF, EVEN IF ADVISED OF\n",
      " THE POSSIBILITY THEREOF.\n",
      "\n",
      " 6. This License Agreement will automatically terminate upon a material\n",
      " breach of its terms and conditions.\n",
      "\n",
      " 7. Nothing in this License Agreement shall be deemed to create any\n",
      " relationship of agency, partnership, or joint venture between JDH and\n",
      " Licensee.  This License Agreement does not grant permission to use JDH\n",
      " trademarks or trade name in a trademark sense to endorse or promote\n",
      " products or services of Licensee, or any third party.\n",
      "\n",
      " 8. By copying, installing or otherwise using matplotlib,\n",
      " Licensee agrees to be bound by the terms and conditions of this License\n",
      " Agreement.\n",
      "Location: C:\\Users\\unish\\anaconda3\\Lib\\site-packages\n",
      "Requires: contourpy, cycler, fonttools, kiwisolver, numpy, packaging, pillow, pyparsing, python-dateutil\n",
      "Required-by: \n"
     ]
    }
   ],
   "source": [
    "!pip show torch torchvision matplotlib\n"
   ]
  },
  {
   "cell_type": "code",
   "execution_count": 2,
   "id": "a67ffd20-f2d0-4fa6-b77a-86a0886b986d",
   "metadata": {},
   "outputs": [
    {
     "name": "stdout",
     "output_type": "stream",
     "text": [
      "C:\\Users\\unish\\anaconda3\\python.exe\n"
     ]
    }
   ],
   "source": [
    "import sys\n",
    "print(sys.executable)\n"
   ]
  },
  {
   "cell_type": "code",
   "execution_count": null,
   "id": "bbb3b4f8-c7f0-4e87-a667-9c9969a27410",
   "metadata": {},
   "outputs": [],
   "source": []
  },
  {
   "cell_type": "code",
   "execution_count": null,
   "id": "cc0acd75-4a1e-4b44-ba28-7a1db1318501",
   "metadata": {},
   "outputs": [],
   "source": []
  }
 ],
 "metadata": {
  "kernelspec": {
   "display_name": "Python 3 (ipykernel)",
   "language": "python",
   "name": "python3"
  },
  "language_info": {
   "codemirror_mode": {
    "name": "ipython",
    "version": 3
   },
   "file_extension": ".py",
   "mimetype": "text/x-python",
   "name": "python",
   "nbconvert_exporter": "python",
   "pygments_lexer": "ipython3",
   "version": "3.12.7"
  }
 },
 "nbformat": 4,
 "nbformat_minor": 5
}
