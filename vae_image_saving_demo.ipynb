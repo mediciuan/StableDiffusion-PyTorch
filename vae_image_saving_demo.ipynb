{
 "cells": [
  {
   "cell_type": "code",
   "execution_count": null,
   "id": "05d9850c",
   "metadata": {},
   "outputs": [],
   "source": [
    "import os\n",
    "import torch\n",
    "import torchvision\n",
    "import torchvision.transforms as T\n",
    "import torchvision.utils as vutils\n",
    "from torchvision.datasets import MNIST\n",
    "from torch import nn\n",
    "from PIL import Image\n",
    "import matplotlib.pyplot as plt"
   ]
  },
  {
   "cell_type": "code",
   "execution_count": null,
   "id": "07336c89",
   "metadata": {},
   "outputs": [],
   "source": [
    "class SimpleVAE(nn.Module):\n",
    "    def __init__(self):\n",
    "        super().__init__()\n",
    "        self.encoder = nn.Sequential(\n",
    "            nn.Flatten(),\n",
    "            nn.Linear(28*28, 128),\n",
    "            nn.ReLU(),\n",
    "        )\n",
    "        self.decoder = nn.Sequential(\n",
    "            nn.Linear(128, 28*28),\n",
    "            nn.Sigmoid(),\n",
    "            nn.Unflatten(1, (1, 28, 28)),\n",
    "        )\n",
    "\n",
    "    def encode_decode(self, x):\n",
    "        z = self.encoder(x)\n",
    "        return self.decoder(z)"
   ]
  },
  {
   "cell_type": "code",
   "execution_count": 2,
   "id": "4b15a9b3",
   "metadata": {},
   "outputs": [
    {
     "ename": "NameError",
     "evalue": "name 'T' is not defined",
     "output_type": "error",
     "traceback": [
      "\u001b[31m---------------------------------------------------------------------------\u001b[39m",
      "\u001b[31mNameError\u001b[39m                                 Traceback (most recent call last)",
      "\u001b[36mCell\u001b[39m\u001b[36m \u001b[39m\u001b[32mIn[2]\u001b[39m\u001b[32m, line 1\u001b[39m\n\u001b[32m----> \u001b[39m\u001b[32m1\u001b[39m transform = \u001b[43mT\u001b[49m.Compose([\n\u001b[32m      2\u001b[39m     T.ToTensor(),\n\u001b[32m      3\u001b[39m     T.Normalize((\u001b[32m0.5\u001b[39m,), (\u001b[32m0.5\u001b[39m,))\n\u001b[32m      4\u001b[39m ])\n\u001b[32m      6\u001b[39m mnist = MNIST(root=\u001b[33m'\u001b[39m\u001b[33mdata\u001b[39m\u001b[33m'\u001b[39m, train=\u001b[38;5;28;01mFalse\u001b[39;00m, download=\u001b[38;5;28;01mTrue\u001b[39;00m, transform=transform)\n\u001b[32m      7\u001b[39m imgs = torch.stack([img \u001b[38;5;28;01mfor\u001b[39;00m img, _ \u001b[38;5;129;01min\u001b[39;00m [mnist[\u001b[32m0\u001b[39m]]])  \u001b[38;5;66;03m# 첫 이미지만 사용\u001b[39;00m\n",
      "\u001b[31mNameError\u001b[39m: name 'T' is not defined"
     ]
    }
   ],
   "source": [
    "transform = T.Compose([\n",
    "    T.ToTensor(),\n",
    "    T.Normalize((0.5,), (0.5,))\n",
    "])\n",
    "\n",
    "mnist = MNIST(root='data', train=False, download=True, transform=transform)\n",
    "imgs = torch.stack([img for img, _ in [mnist[0]]])  # 첫 이미지만 사용"
   ]
  },
  {
   "cell_type": "code",
   "execution_count": 3,
   "id": "0a6e66f8",
   "metadata": {},
   "outputs": [
    {
     "ename": "NameError",
     "evalue": "name 'SimpleVAE' is not defined",
     "output_type": "error",
     "traceback": [
      "\u001b[31m---------------------------------------------------------------------------\u001b[39m",
      "\u001b[31mNameError\u001b[39m                                 Traceback (most recent call last)",
      "\u001b[36mCell\u001b[39m\u001b[36m \u001b[39m\u001b[32mIn[3]\u001b[39m\u001b[32m, line 1\u001b[39m\n\u001b[32m----> \u001b[39m\u001b[32m1\u001b[39m vae = \u001b[43mSimpleVAE\u001b[49m().to(\u001b[33m'\u001b[39m\u001b[33mcpu\u001b[39m\u001b[33m'\u001b[39m)  \u001b[38;5;66;03m# CUDA 사용 시 'cuda'\u001b[39;00m\n\u001b[32m      3\u001b[39m \u001b[38;5;28;01mwith\u001b[39;00m torch.no_grad():\n\u001b[32m      4\u001b[39m     original = imgs[\u001b[32m0\u001b[39m].unsqueeze(\u001b[32m0\u001b[39m)\n",
      "\u001b[31mNameError\u001b[39m: name 'SimpleVAE' is not defined"
     ]
    }
   ],
   "source": [
    "vae = SimpleVAE().to('cpu')  # CUDA 사용 시 'cuda'\n",
    "\n",
    "with torch.no_grad():\n",
    "    original = imgs[0].unsqueeze(0)\n",
    "    reconstructed = vae.encode_decode(original)"
   ]
  },
  {
   "cell_type": "code",
   "execution_count": 4,
   "id": "93632ef1",
   "metadata": {},
   "outputs": [
    {
     "ename": "NameError",
     "evalue": "name 'T' is not defined",
     "output_type": "error",
     "traceback": [
      "\u001b[31m---------------------------------------------------------------------------\u001b[39m",
      "\u001b[31mNameError\u001b[39m                                 Traceback (most recent call last)",
      "\u001b[36mCell\u001b[39m\u001b[36m \u001b[39m\u001b[32mIn[4]\u001b[39m\u001b[32m, line 1\u001b[39m\n\u001b[32m----> \u001b[39m\u001b[32m1\u001b[39m to_pil = \u001b[43mT\u001b[49m.ToPILImage()\n\u001b[32m      3\u001b[39m original_img = to_pil(imgs[\u001b[32m0\u001b[39m] * \u001b[32m0.5\u001b[39m + \u001b[32m0.5\u001b[39m)\n\u001b[32m      4\u001b[39m reconstructed_img = to_pil(reconstructed[\u001b[32m0\u001b[39m])\n",
      "\u001b[31mNameError\u001b[39m: name 'T' is not defined"
     ]
    }
   ],
   "source": [
    "to_pil = T.ToPILImage()\n",
    "\n",
    "original_img = to_pil(imgs[0] * 0.5 + 0.5)\n",
    "reconstructed_img = to_pil(reconstructed[0])\n",
    "\n",
    "save_dir = \"outputs\"\n",
    "os.makedirs(save_dir, exist_ok=True)\n",
    "\n",
    "original_path = os.path.join(save_dir, \"original.png\")\n",
    "reconstructed_path = os.path.join(save_dir, \"reconstructed.png\")\n",
    "\n",
    "original_img.save(original_path)\n",
    "reconstructed_img.save(reconstructed_path)\n",
    "\n",
    "print(\"✅ 저장 완료:\")\n",
    "print(f\" - Original:     {original_path}\")\n",
    "print(f\" - Reconstructed:{reconstructed_path}\")"
   ]
  },
  {
   "cell_type": "code",
   "execution_count": 5,
   "id": "f77aeb4e",
   "metadata": {},
   "outputs": [
    {
     "ename": "NameError",
     "evalue": "name 'plt' is not defined",
     "output_type": "error",
     "traceback": [
      "\u001b[31m---------------------------------------------------------------------------\u001b[39m",
      "\u001b[31mNameError\u001b[39m                                 Traceback (most recent call last)",
      "\u001b[36mCell\u001b[39m\u001b[36m \u001b[39m\u001b[32mIn[5]\u001b[39m\u001b[32m, line 1\u001b[39m\n\u001b[32m----> \u001b[39m\u001b[32m1\u001b[39m fig, axs = \u001b[43mplt\u001b[49m.subplots(\u001b[32m1\u001b[39m, \u001b[32m2\u001b[39m, figsize=(\u001b[32m6\u001b[39m, \u001b[32m3\u001b[39m))\n\u001b[32m      2\u001b[39m axs[\u001b[32m0\u001b[39m].imshow(original_img, cmap=\u001b[33m'\u001b[39m\u001b[33mgray\u001b[39m\u001b[33m'\u001b[39m)\n\u001b[32m      3\u001b[39m axs[\u001b[32m0\u001b[39m].set_title(\u001b[33m\"\u001b[39m\u001b[33mOriginal\u001b[39m\u001b[33m\"\u001b[39m)\n",
      "\u001b[31mNameError\u001b[39m: name 'plt' is not defined"
     ]
    }
   ],
   "source": [
    "fig, axs = plt.subplots(1, 2, figsize=(6, 3))\n",
    "axs[0].imshow(original_img, cmap='gray')\n",
    "axs[0].set_title(\"Original\")\n",
    "axs[1].imshow(reconstructed_img, cmap='gray')\n",
    "axs[1].set_title(\"Reconstructed\")\n",
    "plt.tight_layout()\n",
    "plt.show()"
   ]
  },
  {
   "cell_type": "code",
   "execution_count": null,
   "id": "26996f0d-841b-45bc-9126-1e922dec8015",
   "metadata": {},
   "outputs": [],
   "source": []
  },
  {
   "cell_type": "code",
   "execution_count": null,
   "id": "8399c762-d9af-473b-a5b7-2f91d26b2adb",
   "metadata": {},
   "outputs": [],
   "source": []
  },
  {
   "cell_type": "code",
   "execution_count": null,
   "id": "8a6f7aa6-6b98-46c5-b482-fd16cb87a700",
   "metadata": {},
   "outputs": [],
   "source": []
  },
  {
   "cell_type": "code",
   "execution_count": null,
   "id": "3e1e27b4-c826-48b0-ac76-7d8cee8c2091",
   "metadata": {},
   "outputs": [],
   "source": []
  },
  {
   "cell_type": "code",
   "execution_count": null,
   "id": "28b3b064-407e-4170-9864-e2ff6f429ddb",
   "metadata": {},
   "outputs": [],
   "source": []
  },
  {
   "cell_type": "code",
   "execution_count": null,
   "id": "0142fad3-f52f-457a-83b1-3c54f1b126cd",
   "metadata": {},
   "outputs": [],
   "source": []
  },
  {
   "cell_type": "code",
   "execution_count": null,
   "id": "68fbaf08-81ee-49c4-9c72-7068c5cd896d",
   "metadata": {},
   "outputs": [],
   "source": []
  },
  {
   "cell_type": "code",
   "execution_count": null,
   "id": "5a3f3c65-385f-45ce-828c-d124b22557e2",
   "metadata": {},
   "outputs": [],
   "source": []
  },
  {
   "cell_type": "code",
   "execution_count": null,
   "id": "5e6aebd2-673d-4f7f-b45e-bf4fdaf3d685",
   "metadata": {},
   "outputs": [],
   "source": []
  },
  {
   "cell_type": "code",
   "execution_count": null,
   "id": "047aaa2b-c7da-47f7-9fc6-75ff1f7ab8c5",
   "metadata": {},
   "outputs": [],
   "source": []
  },
  {
   "cell_type": "code",
   "execution_count": null,
   "id": "68ce84a0-60b5-460f-a1a4-6c515c8a038d",
   "metadata": {},
   "outputs": [],
   "source": []
  },
  {
   "cell_type": "code",
   "execution_count": null,
   "id": "477e9a96-a006-4431-8d8a-f1626c256c0c",
   "metadata": {},
   "outputs": [],
   "source": []
  },
  {
   "cell_type": "code",
   "execution_count": null,
   "id": "772c4e02-1196-4855-a4a9-4016ecc9d636",
   "metadata": {},
   "outputs": [],
   "source": []
  }
 ],
 "metadata": {
  "kernelspec": {
   "display_name": "Python 3 (ipykernel)",
   "language": "python",
   "name": "python3"
  },
  "language_info": {
   "codemirror_mode": {
    "name": "ipython",
    "version": 3
   },
   "file_extension": ".py",
   "mimetype": "text/x-python",
   "name": "python",
   "nbconvert_exporter": "python",
   "pygments_lexer": "ipython3",
   "version": "3.12.7"
  }
 },
 "nbformat": 4,
 "nbformat_minor": 5
}
