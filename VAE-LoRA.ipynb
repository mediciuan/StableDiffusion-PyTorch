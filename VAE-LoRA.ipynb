{
 "cells": [
  {
   "cell_type": "code",
   "execution_count": null,
   "id": "da4dd00f-fc7d-4dd6-9a2d-53817556e960",
   "metadata": {},
   "outputs": [],
   "source": [
    "# VAE with LoRA fine-tuning script in notebook format\n",
    "\n",
    "# ----------------------------------------------------------------------------\n",
    "# This script demonstrates how to fine-tune a VAE with LoRA on the MNIST dataset\n",
    "# ----------------------------------------------------------------------------\n",
    "\n",
    "# Import libraries\n",
    "import torch\n",
    "from torch import nn, optim\n",
    "from torch.utils.data import DataLoader\n",
    "from torchvision import datasets, transforms\n",
    "\n",
    "# Define VAE with LoRA\n",
    "# (... includes VAE architecture and LoRA injection as previously explained)\n",
    "\n",
    "# Prepare dataset\n",
    "transform = transforms.Compose([\n",
    "    transforms.ToTensor(),\n",
    "    transforms.Normalize((0.5,), (0.5, ))\n",
    "])\n",
    "dataset = datasets.MNIST(root='mnist_data', transform=transform, download=True)\n",
    "loader = DataLoader(dataset, batch_size=64, shuffle=True)\n",
    "\n",
    "# Initialize VAE and LoRA\n",
    "vae = VAEWithLoRA(in_features=..., out_features=...)\n",
    "vae.train()\n",
    "\n",
    "# Set up optimizer\n",
    "optimizer = optim.Adam([p for p in vae.lora.parameters() if p.requires_grad], lr=1e-4)\n",
    "\n",
    "# Train\n",
    "for epoch in range(10):\n",
    "    for imgs, _ in loader:\n",
    "        imgs = imgs.to('cuda')\n",
    "        reconstructed = vae(imgs)\n",
    "        loss = compute_loss(reconstructed, imgs)\n",
    "        optimizer.zero_grad()\n",
    "        loss.backward()\n",
    "        optimizer.step()\n",
    "\n",
    "# Save the trained model\n",
    "torch.save(vae.state_dict(), 'vae_lora_trained.pt')\n"
   ]
  },
  {
   "cell_type": "code",
   "execution_count": null,
   "id": "eb25a19a-d756-4efa-947b-bbcac5f55826",
   "metadata": {},
   "outputs": [],
   "source": []
  }
 ],
 "metadata": {
  "kernelspec": {
   "display_name": "Python 3 (ipykernel)",
   "language": "python",
   "name": "python3"
  },
  "language_info": {
   "codemirror_mode": {
    "name": "ipython",
    "version": 3
   },
   "file_extension": ".py",
   "mimetype": "text/x-python",
   "name": "python",
   "nbconvert_exporter": "python",
   "pygments_lexer": "ipython3",
   "version": "3.12.7"
  }
 },
 "nbformat": 4,
 "nbformat_minor": 5
}
